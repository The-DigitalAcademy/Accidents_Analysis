{
 "cells": [
  {
   "cell_type": "code",
   "execution_count": 33,
   "metadata": {},
   "outputs": [],
   "source": [
    "import pandas as pd\n",
    "\n",
    "data = pd.read_csv(\"Tableau_data/postcodes.csv\")\n",
    "\n",
    "codes = []\n",
    "\n",
    "def stripcodes():\n",
    "    for i in data['postcode']:\n",
    "        dre = \"\".join(i)\n",
    "        dre = dre.split(\" \")\n",
    "        codes.append(dre[0])\n",
    "\n",
    "stripcodes()"
   ]
  },
  {
   "cell_type": "code",
   "execution_count": 34,
   "metadata": {},
   "outputs": [
    {
     "data": {
      "text/plain": [
       "95625"
      ]
     },
     "execution_count": 34,
     "metadata": {},
     "output_type": "execute_result"
    }
   ],
   "source": [
    "codeid = data['postcode_id']\n",
    "len(codeid)"
   ]
  },
  {
   "cell_type": "code",
   "execution_count": 35,
   "metadata": {},
   "outputs": [],
   "source": [
    "# data2 = pd.DataFrame([codes.T, codeid])\n",
    "# data2\n",
    "\n",
    "s = zip(codeid,codes)\n",
    "data2 = pd.DataFrame(s, columns=(\"postcode_id\",\"postcode\"))\n",
    "data2.to_csv(\"Tableau_data/postcode.csv\", index=False)"
   ]
  }
 ],
 "metadata": {
  "kernelspec": {
   "display_name": "base",
   "language": "python",
   "name": "python3"
  },
  "language_info": {
   "codemirror_mode": {
    "name": "ipython",
    "version": 3
   },
   "file_extension": ".py",
   "mimetype": "text/x-python",
   "name": "python",
   "nbconvert_exporter": "python",
   "pygments_lexer": "ipython3",
   "version": "3.12.7"
  }
 },
 "nbformat": 4,
 "nbformat_minor": 2
}
